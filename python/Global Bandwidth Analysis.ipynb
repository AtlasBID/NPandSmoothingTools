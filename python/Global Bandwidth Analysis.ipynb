{
 "cells": [
  {
   "cell_type": "markdown",
   "metadata": {},
   "source": [
    "# Introduction"
   ]
  },
  {
   "cell_type": "markdown",
   "metadata": {},
   "source": [
    "This notebook is designed to visually walk through the steps to determine the optimal global bandwidth for a set of b-tagging, \"MC $\\rightarrow$ data\" scale factors (SF) as well as the associated statistical and systematic uncertainties. It uses the local polynomial kernel estimator found in this package to \"smooth\" the distributions."
   ]
  },
  {
   "cell_type": "markdown",
   "metadata": {},
   "source": [
    "__requirements:__ \n",
    "* `rootpy`\n",
    "* `ipython`\n",
    "* `CDIFiles` package\n",
    "    * located here: `atlasoff/PhysicsAnalysis/JetTagging/JetTagPerformanceCalibration/CDIFiles/trunk`\n",
    "* `CalibrationDataInterface` package\n",
    "    * located here: `atlasoff/PhysicsAnalysis/JetTagging/JetTagPerformanceCalibration/CalibrationDataInterface/trunk`\n",
    "    * needs to be compiled before running this notebook\n",
    "* `NPandSmoothingTools` package\n",
    "    * located here: `atlasperf/CombPerf/FlavorTag/JetTagPerformanceCalibration/NPandSmoothingTools/trunk`\n",
    "    * needs to be compiled before running this notebook"
   ]
  },
  {
   "cell_type": "markdown",
   "metadata": {},
   "source": [
    "## Common Imports"
   ]
  },
  {
   "cell_type": "code",
   "execution_count": 1,
   "metadata": {
    "collapsed": false
   },
   "outputs": [],
   "source": [
    "import collections\n",
    "import ROOT\n",
    "import rootpy\n",
    "from rootpy.plotting import Hist, Canvas, Legend, set_style\n",
    "\n",
    "# now import RootCore stuff\n",
    "rootCore_import_result = ROOT.gROOT.Macro('$ROOTCOREDIR/scripts/load_packages.C')\n",
    "if rootCore_import_result != 0 and rootCore_import_result != 1:\n",
    "    print \"Couldn't import RootCore package libraries. Aborting...\"\n",
    "else:\n",
    "    from ROOT import Analysis\n",
    "    from ROOT.Analysis import ROOTHistogramSmoother#, optimizeLeaveOneOutCrossValidation\n",
    "    from ROOT.Analysis import CalibrationDataHistogramContainer"
   ]
  },
  {
   "cell_type": "markdown",
   "metadata": {},
   "source": [
    "## Custom Python wrappers"
   ]
  },
  {
   "cell_type": "code",
   "execution_count": 2,
   "metadata": {
    "collapsed": false
   },
   "outputs": [],
   "source": [
    "# make Python friendly class wrapper\n",
    "class PyHistogramSmoother(ROOTHistogramSmoother):\n",
    "    def __init__(self):\n",
    "        #ROOTHistogramSmoother.__init(self)__\n",
    "        super(PyHistogramSmoother, self).__init__()\n",
    "        # maps to cache the ROOT objects\n",
    "        self._call_args = {}\n",
    "        self._AddDataPoint_args = {}\n",
    "        self._SetDataPoint_args = {}\n",
    "    \n",
    "    # need this b/c ROOT has difficulty exporting the templated operator()\n",
    "    def __call__(self, *args):\n",
    "        nargs = len(args)\n",
    "        c = None\n",
    "        if nargs == 1 and isinstance(args[0], collections.Iterable):\n",
    "            arg = args[0]\n",
    "            size = len(arg)\n",
    "            c = None\n",
    "            if not size in self._call_args:\n",
    "                self._call_args[size] = ROOTHistogramSmoother.Covariates_t(size)\n",
    "            c = self._call_args[size]\n",
    "            for i in range(size):\n",
    "                c[i] = arg[i]\n",
    "            return super(PyHistogramSmoother, self).__call__(c)\n",
    "        else:\n",
    "            if not nargs in self._call_args:\n",
    "                self._call_args[nargs] = ROOTHistogramSmoother.Covariates_t(nargs)\n",
    "            c = self._call_args[nargs]\n",
    "            for i in range(nargs):\n",
    "                c[i] = args[i]\n",
    "        return super(PyHistogramSmoother, self).__call__(c)\n",
    "    \n",
    "    # added this only for uniformity with operator()\n",
    "    def AddDataPoint(self, *args):\n",
    "        nargs = len(args)\n",
    "        c = None\n",
    "        if nargs == 1 and isinstance(args[0], collections.Iterable):\n",
    "            arg = args[0]\n",
    "            size = len(arg)\n",
    "            c = None\n",
    "            if not size in self._call_args:\n",
    "                self._AddDataPoint_args[size] = ROOTHistogramSmoother.FullCoord_t(size)\n",
    "            c = self._AddDataPoint_args[size]\n",
    "            for i in range(size):\n",
    "                c[i] = arg[i]\n",
    "            return super(PyHistogramSmoother, self).__call__(c)\n",
    "        else:\n",
    "            if not nargs in self._call_args:\n",
    "                self._AddDataPoint_args[nargs] = ROOTHistogramSmoother.FullCoord_t(nargs)\n",
    "            c = self._AddDataPoint_args[nargs]\n",
    "            for i in range(nargs):\n",
    "                c[i] = args[i]\n",
    "        return super(PyHistogramSmoother, self).AddDataPoint(c)\n",
    "    \n",
    "    # added this only for uniformity with operator()\n",
    "    def SetDataPoint(self, index, *args):\n",
    "        nargs = len(args)\n",
    "        c = None\n",
    "        if nargs == 1 and isinstance(args[0], collections.Iterable):\n",
    "            arg = args[0]\n",
    "            size = len(arg)\n",
    "            c = None\n",
    "            if not size in self._call_args:\n",
    "                self._SetDataPoint_args[size] = ROOTHistogramSmoother.FullCoord_t(size)\n",
    "            c = self._SetDataPoint_args[size]\n",
    "            for i in range(size):\n",
    "                c[i] = arg[i]\n",
    "            return super(PyHistogramSmoother, self).__call__(c)\n",
    "        else:\n",
    "            if not nargs in self._call_args:\n",
    "                self._SetDataPoint_args[nargs] = ROOTHistogramSmoother.FullCoord_t(nargs)\n",
    "            c = self._SetDataPoint_args[nargs]\n",
    "            for i in range(nargs):\n",
    "                c[i] = args[i]\n",
    "        return super(PyHistogramSmoother, self).SetDataPoint(index, c)"
   ]
  },
  {
   "cell_type": "markdown",
   "metadata": {},
   "source": [
    "# Demonstration of the Smoother and Cross Validation"
   ]
  },
  {
   "cell_type": "markdown",
   "metadata": {},
   "source": [
    "## Setup smoothing object"
   ]
  },
  {
   "cell_type": "code",
   "execution_count": 3,
   "metadata": {
    "collapsed": false
   },
   "outputs": [],
   "source": [
    "smoother = PyHistogramSmoother()\n",
    "smoother.SetNumberOfDataPoints(0)\n",
    "smoother.SetDimension(1)\n",
    "smoother.SetOrder(1)\n",
    "smoother.SetBandwidth(0, 0.4)\n",
    "smoother.SetNbins(0, 100)\n",
    "smoother.SetScaleFunction(0, ROOT.TF1(\"ln scale\", \"TMath::Log(x)\", -1.0, 1.0))\n",
    "smoother.SetInvScaleFunction(0, ROOT.TF1(\"invert ln scale\", \"TMath::Exp(x)\", -1.0, 1.0))\n",
    "smoother.SetKernel(ROOT.TF1(\"gaus\", \"TMath::Gaus(x, 0, 1, kTRUE)\"))"
   ]
  },
  {
   "cell_type": "markdown",
   "metadata": {},
   "source": [
    "## Setup plotting environment"
   ]
  },
  {
   "cell_type": "code",
   "execution_count": 4,
   "metadata": {
    "collapsed": false
   },
   "outputs": [
    {
     "name": "stderr",
     "output_type": "stream",
     "text": [
      "INFO:rootpy.plotting.style:using ROOT style 'ATLAS'\n"
     ]
    }
   ],
   "source": [
    "set_style('ATLAS')\n",
    "c = Canvas(width=800, height=600)"
   ]
  },
  {
   "cell_type": "markdown",
   "metadata": {},
   "source": [
    "## Dummy Data"
   ]
  },
  {
   "cell_type": "code",
   "execution_count": 5,
   "metadata": {
    "collapsed": false,
    "scrolled": false
   },
   "outputs": [],
   "source": [
    "unsmoothed = Hist([20, 30, 50, 100, 150], title=\"unsmoothed p_{T}\", legendstyle='pe')\n",
    "unsmoothed[1] = (1.1, 0.2)\n",
    "unsmoothed[2] = (1.2, 0.09)\n",
    "unsmoothed[3] = (1.01, 0.085)\n",
    "unsmoothed[4] = (1.09, 0.15)"
   ]
  },
  {
   "cell_type": "code",
   "execution_count": 6,
   "metadata": {
    "collapsed": false
   },
   "outputs": [],
   "source": [
    "smoother.LoadData(unsmoothed)\n",
    "smoothed = smoother.MakeSmoothedTH1()"
   ]
  },
  {
   "cell_type": "code",
   "execution_count": 16,
   "metadata": {
    "collapsed": false
   },
   "outputs": [
    {
     "data": {
      "image/png": "[encoded data removed]",
      "text/plain": [
       "Canvas('Canvas_dP7JDPBpYbosat2S4zwd63')"
      ]
     },
     "execution_count": 16,
     "metadata": {},
     "output_type": "execute_result"
    }
   ],
   "source": [
    "unsmoothed.SetStats(False)\n",
    "unsmoothed.GetXaxis().SetTitle(\"p_{T}\")\n",
    "unsmoothed.Draw()\n",
    "smoothed.SetStats(False)\n",
    "smoothed.SetTitle(\"smoothed p_{T}\")\n",
    "smoothed.Draw(\"same\")\n",
    "\n",
    "leg = Legend([unsmoothed], leftmargin=0.5,\n",
    "             topmargin=0.04, rightmargin=0.15,\n",
    "             textsize=20, entryheight=0.1)\n",
    "leg.AddEntry(smoothed, label=smoothed.GetTitle(), style=\"l\")\n",
    "leg.Draw()\n",
    "\n",
    "c.SetLogx(True)\n",
    "c"
   ]
  },
  {
   "cell_type": "markdown",
   "metadata": {},
   "source": [
    "## Cross validation of bandwidth"
   ]
  },
  {
   "cell_type": "markdown",
   "metadata": {},
   "source": [
    "Selecting an appropriate bandwidth is, in general, a domain specific task. Here we explore a leave-one-out cross validation (L1oCV) scheme for selecting a global bandwidth. L1oCV iteratively removes one data point, performs smoothing over the reduced data set, then scores the smoothing by applying some metric to the differnce between the smooth curve and the \"left out\" data point. The metric we will use is the squared difference. Thus, our final L1oCV score for a given bandwidth, $h$, is:\n",
    "$$\n",
    "S(h)=\\frac{1}{N_{data}} \\sum_i^{N_{data}}{\\left(X_i-\\hat{m}_{i}\\right)^2}\n",
    "$$\n",
    "where $\\hat{m}_{i}$ is the smoothed curve with data point $i$ removed.\n",
    "\n",
    "The bandwidth with the lowest L1oCV score is chosen as the \"best\" bandwidth. This essentially selects the bandwidth that has the best predictive power."
   ]
  },
  {
   "cell_type": "code",
   "execution_count": 15,
   "metadata": {
    "collapsed": false
   },
   "outputs": [
    {
     "name": "stdout",
     "output_type": "stream",
     "text": [
      "25.0 1.10000002384 0.2\n",
      "40.0 1.20000004768 0.09\n",
      "75.0 1.00999999046 0.085\n",
      "125.0 1.09000003338 0.15\n"
     ]
    }
   ],
   "source": [
    "reduced_hists = []\n",
    "for b in unsmoothed:\n",
    "    if not b.overflow:\n",
    "        print unsmoothed.GetBinCenter(b.idx), b.value, b.error"
   ]
  },
  {
   "cell_type": "code",
   "execution_count": null,
   "metadata": {
    "collapsed": true
   },
   "outputs": [],
   "source": []
  }
 ],
 "metadata": {
  "kernelspec": {
   "display_name": "Python 2",
   "language": "python",
   "name": "python2"
  },
  "language_info": {
   "codemirror_mode": {
    "name": "ipython",
    "version": 2
   },
   "file_extension": ".py",
   "mimetype": "text/x-python",
   "name": "python",
   "nbconvert_exporter": "python",
   "pygments_lexer": "ipython2",
   "version": "2.7.10"
  }
 },
 "nbformat": 4,
 "nbformat_minor": 0
}
